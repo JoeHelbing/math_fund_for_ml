{
 "cells": [
  {
   "cell_type": "code",
   "execution_count": null,
   "metadata": {},
   "outputs": [],
   "source": [
    "# Download data from Chicago data portal to local directory\n",
    "# https://data.cityofchicago.org/api/views/85ca-t3if/rows.csv?accessType=DOWNLOAD"
   ]
  },
  {
   "cell_type": "code",
   "execution_count": null,
   "metadata": {},
   "outputs": [],
   "source": [
    "# import packages\n",
    "import pandas as pd\n",
    "import numpy as np\n",
    "import matplotlib.pyplot as plt\n",
    "import seaborn as sns\n"
   ]
  },
  {
   "cell_type": "markdown",
   "metadata": {},
   "source": [
    "# Load and Clean Data"
   ]
  },
  {
   "cell_type": "code",
   "execution_count": null,
   "metadata": {},
   "outputs": [],
   "source": [
    "crash_df = pd.read_csv(\"Traffic_Crashes_-_Crashes.csv\")\n",
    "crash_df.columns\n",
    "crash_df.info()\n",
    "crash_df.describe()\n"
   ]
  },
  {
   "cell_type": "code",
   "execution_count": null,
   "metadata": {},
   "outputs": [],
   "source": [
    "# drop columns that are not useful for analysis\n",
    "crash_df.drop([\"CRASH_RECORD_ID\", \"RD_NO\", \"CRASH_DATE_EST_I\", \"CRASH_DATE\", \"LANE_CNT\", \n",
    "               \"REPORT_TYPE\", \"INTERSECTION_RELATED_I\", \"NOT_RIGHT_OF_WAY_I\", \"HIT_AND_RUN_I\", \n",
    "               \"DATE_POLICE_NOTIFIED\", \"BEAT_OF_OCCURRENCE\", \"PHOTOS_TAKEN_I\", \"STATEMENTS_TAKEN_I\", \n",
    "               \"DOORING_I\", \"WORK_ZONE_I\", \"WORK_ZONE_TYPE\", \"WORKERS_PRESENT_I\", \"NUM_UNITS\"], axis=1, \n",
    "              inplace=True)\n",
    "crash_df.shape, crash_df.columns\n",
    "crash_df.dropna(axis=0, how=\"any\", inplace=True)\n",
    "crash_df.shape"
   ]
  },
  {
   "cell_type": "code",
   "execution_count": null,
   "metadata": {},
   "outputs": [],
   "source": [
    "# checking GPS data\n",
    "lon_max = crash_df.LONGITUDE.max()\n",
    "lon_min = crash_df.LONGITUDE.min()\n",
    "lat_max = crash_df.LATITUDE.max()\n",
    "lat_min = crash_df.LATITUDE.min()\n",
    "\n",
    "lon_max, lon_min, lat_max, lat_min\n",
    "\n",
    "crash_df = crash_df[crash_df.LONGITUDE != 0.0]\n",
    "crash_df = crash_df[crash_df.LATITUDE != 0.0]\n",
    "crash_df.shape"
   ]
  }
 ],
 "metadata": {
  "language_info": {
   "name": "python"
  },
  "orig_nbformat": 4
 },
 "nbformat": 4,
 "nbformat_minor": 2
}
